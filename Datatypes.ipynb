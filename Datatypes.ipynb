{
 "cells": [
  {
   "cell_type": "markdown",
   "id": "af7a680d-d8dc-44d5-ab5f-a7c1cadb56cb",
   "metadata": {},
   "source": [
    "# Datatypes in Python :"
   ]
  },
  {
   "cell_type": "code",
   "execution_count": 3,
   "id": "93d93591-3fd7-49fb-a8c0-52b09bd9e106",
   "metadata": {},
   "outputs": [],
   "source": [
    "# A datatype tells what kind of value a variable holds.\n",
    "# Python provied a variety of built in data types that allow you to and manipulate different kinds of adta."
   ]
  },
  {
   "cell_type": "markdown",
   "id": "b2b068ef-a3c3-4251-8662-ebbd263690b2",
   "metadata": {},
   "source": [
    "# 1. Numbers :\n",
    "    # Python supports various numeric data types , including integers , floating point numbers and complex numbers.\n",
    "    # These datatypes are also perform arithmatic operations i.e. addition , substraction , multiplication , division.4"
   ]
  },
  {
   "cell_type": "code",
   "execution_count": 6,
   "id": "9f301058-562d-407a-9a72-c9f4228a178e",
   "metadata": {},
   "outputs": [
    {
     "name": "stdout",
     "output_type": "stream",
     "text": [
      "15\n"
     ]
    }
   ],
   "source": [
    "# For Example ,\n",
    "\n",
    "# Integer :\n",
    "\n",
    "x = 5\n",
    "y = 10\n",
    "z = x+y\n",
    "print(z)"
   ]
  },
  {
   "cell_type": "code",
   "execution_count": 8,
   "id": "5006e28e-1a9a-4900-ac31-f05090939252",
   "metadata": {},
   "outputs": [
    {
     "name": "stdout",
     "output_type": "stream",
     "text": [
      "9.3\n"
     ]
    }
   ],
   "source": [
    "# Floating point number :\n",
    "\n",
    "x = 5.7\n",
    "y = 3.6\n",
    "z = x+y\n",
    "print(z)"
   ]
  },
  {
   "cell_type": "code",
   "execution_count": 10,
   "id": "ab68d2c1-b5c3-4119-a391-14bff0535b90",
   "metadata": {},
   "outputs": [
    {
     "name": "stdout",
     "output_type": "stream",
     "text": [
      "(8-1j)\n"
     ]
    }
   ],
   "source": [
    "# Complex number :\n",
    "\n",
    "c = 2 + 3j\n",
    "d = 1 - 2j\n",
    "e = c * d\n",
    "print(e)"
   ]
  },
  {
   "cell_type": "code",
   "execution_count": 12,
   "id": "e59f444a-1a01-4886-b285-ce7f5f138707",
   "metadata": {
    "scrolled": true
   },
   "outputs": [
    {
     "name": "stdout",
     "output_type": "stream",
     "text": [
      "Addition : 8\n",
      "Substraction : -2\n",
      "Multiplication : 15\n",
      "Division : 0.6\n"
     ]
    }
   ],
   "source": [
    "# Arithmatic Operations :\n",
    "\n",
    "a = 3\n",
    "b = 5\n",
    "print(\"Addition :\", a + b)\n",
    "print(\"Substraction :\", a - b)\n",
    "print(\"Multiplication :\", a * b)\n",
    "print(\"Division :\", a / b)"
   ]
  },
  {
   "cell_type": "markdown",
   "id": "ec65e288-8277-450f-9338-972905060695",
   "metadata": {},
   "source": [
    "# 2. Strings :\n",
    "    # Strings are used to represent textual data in Python.\n",
    "    # Strings are enclosed in either single quotes('') , double quotes(\"\") or tripple quotes('''''')."
   ]
  },
  {
   "cell_type": "code",
   "execution_count": 23,
   "id": "ac3faedd-d3a8-4d47-ba2f-61f0cc7743bb",
   "metadata": {},
   "outputs": [
    {
     "name": "stdout",
     "output_type": "stream",
     "text": [
      "This is a String.\n"
     ]
    }
   ],
   "source": [
    "String = 'This is a String.'\n",
    "print(String)"
   ]
  },
  {
   "cell_type": "code",
   "execution_count": 15,
   "id": "859bd2ce-1e1a-4e9d-bc9e-fd517bceb113",
   "metadata": {},
   "outputs": [
    {
     "name": "stdout",
     "output_type": "stream",
     "text": [
      "This is single quote example.\n",
      "This is double quote example.\n",
      "This is triple quote example.\n"
     ]
    }
   ],
   "source": [
    "# For example ,\n",
    "\n",
    "# Single quotes :\n",
    "Single = 'This is single quote example.'\n",
    "print(Single)\n",
    "\n",
    "# Double quotes :\n",
    "Double = \"This is double quote example.\"\n",
    "print(Double)\n",
    "\n",
    "# Triple quotes :\n",
    "Triple = '''This is triple quote example.'''\n",
    "print(Triple)"
   ]
  },
  {
   "cell_type": "code",
   "execution_count": 17,
   "id": "11a38429-cb31-4373-a12d-2dedd32013bb",
   "metadata": {},
   "outputs": [
    {
     "name": "stdout",
     "output_type": "stream",
     "text": [
      "Payal Kulkarni\n"
     ]
    }
   ],
   "source": [
    "# Concatination in Strings :\n",
    "\n",
    "FName = \"Payal\"\n",
    "LName = \"Kulkarni\"\n",
    "FullName = FName +\" \" +LName\n",
    "print(FullName)"
   ]
  },
  {
   "cell_type": "code",
   "execution_count": 19,
   "id": "6340c294-eb25-496a-857a-3dde22a27158",
   "metadata": {},
   "outputs": [
    {
     "name": "stdout",
     "output_type": "stream",
     "text": [
      "i Khedkar\n",
      "Saya\n",
      "Sayali Khedkar\n"
     ]
    }
   ],
   "source": [
    "# Slicing a String :\n",
    "\n",
    "Name = \"Sayali Khedkar\"\n",
    "print(Name[5:])\n",
    "print(Name[:4])\n",
    "print(Name[:])"
   ]
  },
  {
   "cell_type": "code",
   "execution_count": 21,
   "id": "07ce1354-f67b-406a-b68d-5ace2ad8b052",
   "metadata": {},
   "outputs": [
    {
     "name": "stdout",
     "output_type": "stream",
     "text": [
      "I am 25 years old.\n"
     ]
    }
   ],
   "source": [
    "# String Formatting :\n",
    "\n",
    "Age = 25\n",
    "print(\"I am {} years old.\".format(Age))"
   ]
  },
  {
   "cell_type": "code",
   "execution_count": null,
   "id": "03c484fb-359e-44ce-abd7-a36e88351fae",
   "metadata": {},
   "outputs": [],
   "source": []
  }
 ],
 "metadata": {
  "kernelspec": {
   "display_name": "Python 3 (ipykernel)",
   "language": "python",
   "name": "python3"
  },
  "language_info": {
   "codemirror_mode": {
    "name": "ipython",
    "version": 3
   },
   "file_extension": ".py",
   "mimetype": "text/x-python",
   "name": "python",
   "nbconvert_exporter": "python",
   "pygments_lexer": "ipython3",
   "version": "3.12.4"
  }
 },
 "nbformat": 4,
 "nbformat_minor": 5
}
